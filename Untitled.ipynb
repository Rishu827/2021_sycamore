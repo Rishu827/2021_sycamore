{
 "cells": [
  {
   "cell_type": "markdown",
   "metadata": {},
   "source": [
    "# 2 Qubit Problem\n",
    "**Problem statement -** <br>\n",
    "        Favour the Qubits with same value<br>\n",
    "        Penalize the Qubits with different value<br>\n",
    "        \n"
   ]
  },
  {
   "cell_type": "code",
   "execution_count": 3,
   "metadata": {},
   "outputs": [
    {
     "name": "stdout",
     "output_type": "stream",
     "text": [
      "Requirement already satisfied: dwave-ocean-sdk in c:\\users\\rishabh singhal\\anaconda3\\lib\\site-packages (3.3.0)\n",
      "Requirement already satisfied: dwave-system==1.4.0 in c:\\users\\rishabh singhal\\anaconda3\\lib\\site-packages (from dwave-ocean-sdk) (1.4.0)\n",
      "Requirement already satisfied: dwave-tabu==0.3.1 in c:\\users\\rishabh singhal\\anaconda3\\lib\\site-packages (from dwave-ocean-sdk) (0.3.1)\n",
      "Requirement already satisfied: dwave-inspector==0.2.5 in c:\\users\\rishabh singhal\\anaconda3\\lib\\site-packages (from dwave-ocean-sdk) (0.2.5)\n",
      "Requirement already satisfied: dwavebinarycsp==0.1.2 in c:\\users\\rishabh singhal\\anaconda3\\lib\\site-packages (from dwave-ocean-sdk) (0.1.2)\n",
      "Requirement already satisfied: penaltymodel-cache==0.4.3 in c:\\users\\rishabh singhal\\anaconda3\\lib\\site-packages (from dwave-ocean-sdk) (0.4.3)\n",
      "Requirement already satisfied: penaltymodel-lp==0.1.4 in c:\\users\\rishabh singhal\\anaconda3\\lib\\site-packages (from dwave-ocean-sdk) (0.1.4)\n",
      "Requirement already satisfied: pyqubo==1.0.10 in c:\\users\\rishabh singhal\\anaconda3\\lib\\site-packages (from dwave-ocean-sdk) (1.0.10)\n",
      "Requirement already satisfied: penaltymodel-mip==0.2.4; platform_machine == \"x86_64\" or platform_machine == \"amd64\" or platform_machine == \"AMD64\" in c:\\users\\rishabh singhal\\anaconda3\\lib\\site-packages (from dwave-ocean-sdk) (0.2.4)\n",
      "Requirement already satisfied: dwave-hybrid==0.6.1 in c:\\users\\rishabh singhal\\anaconda3\\lib\\site-packages (from dwave-ocean-sdk) (0.6.1)\n",
      "Requirement already satisfied: minorminer==0.2.5 in c:\\users\\rishabh singhal\\anaconda3\\lib\\site-packages (from dwave-ocean-sdk) (0.2.5)\n",
      "Requirement already satisfied: dwave-qbsolv==0.3.2 in c:\\users\\rishabh singhal\\anaconda3\\lib\\site-packages (from dwave-ocean-sdk) (0.3.2)\n",
      "Requirement already satisfied: dwave-greedy==0.1.2 in c:\\users\\rishabh singhal\\anaconda3\\lib\\site-packages (from dwave-ocean-sdk) (0.1.2)\n",
      "Requirement already satisfied: dimod==0.9.13 in c:\\users\\rishabh singhal\\anaconda3\\lib\\site-packages (from dwave-ocean-sdk) (0.9.13)\n",
      "Requirement already satisfied: dwave-cloud-client==0.8.4 in c:\\users\\rishabh singhal\\anaconda3\\lib\\site-packages (from dwave-ocean-sdk) (0.8.4)\n",
      "Requirement already satisfied: dwave-networkx==0.8.8 in c:\\users\\rishabh singhal\\anaconda3\\lib\\site-packages (from dwave-ocean-sdk) (0.8.8)\n",
      "Requirement already satisfied: dwave-neal==0.5.7 in c:\\users\\rishabh singhal\\anaconda3\\lib\\site-packages (from dwave-ocean-sdk) (0.5.7)\n",
      "Requirement already satisfied: penaltymodel==0.16.4 in c:\\users\\rishabh singhal\\anaconda3\\lib\\site-packages (from dwave-ocean-sdk) (0.16.4)\n",
      "Requirement already satisfied: homebase<2.0.0,>=1.0.0 in c:\\users\\rishabh singhal\\anaconda3\\lib\\site-packages (from dwave-system==1.4.0->dwave-ocean-sdk) (1.0.1)\n",
      "Requirement already satisfied: numpy<2.0.0,>=1.14.0 in c:\\users\\rishabh singhal\\anaconda3\\lib\\site-packages (from dwave-system==1.4.0->dwave-ocean-sdk) (1.19.2)\n",
      "Requirement already satisfied: networkx<3.0,>=2.0 in c:\\users\\rishabh singhal\\anaconda3\\lib\\site-packages (from dwave-system==1.4.0->dwave-ocean-sdk) (2.5)\n",
      "Requirement already satisfied: Flask>=1.1.1 in c:\\users\\rishabh singhal\\anaconda3\\lib\\site-packages (from dwave-inspector==0.2.5->dwave-ocean-sdk) (1.1.2)\n",
      "Requirement already satisfied: importlib-resources>=3.2.0; python_version < \"3.9\" in c:\\users\\rishabh singhal\\anaconda3\\lib\\site-packages (from dwave-inspector==0.2.5->dwave-ocean-sdk) (5.1.0)\n",
      "Requirement already satisfied: six<2.0.0,>=1.11.0 in c:\\users\\rishabh singhal\\anaconda3\\lib\\site-packages (from dwavebinarycsp==0.1.2->dwave-ocean-sdk) (1.15.0)\n",
      "Requirement already satisfied: scipy<2.0.0,>=0.15.0 in c:\\users\\rishabh singhal\\anaconda3\\lib\\site-packages (from penaltymodel-lp==0.1.4->dwave-ocean-sdk) (1.5.2)\n",
      "Requirement already satisfied: Deprecated>=1.2.10 in c:\\users\\rishabh singhal\\anaconda3\\lib\\site-packages (from pyqubo==1.0.10->dwave-ocean-sdk) (1.2.11)\n",
      "Requirement already satisfied: ortools<9.0.0,>=6.6.4659 in c:\\users\\rishabh singhal\\anaconda3\\lib\\site-packages (from penaltymodel-mip==0.2.4; platform_machine == \"x86_64\" or platform_machine == \"amd64\" or platform_machine == \"AMD64\"->dwave-ocean-sdk) (8.1.8487)\n",
      "Requirement already satisfied: plucky>=0.4.3 in c:\\users\\rishabh singhal\\anaconda3\\lib\\site-packages (from dwave-hybrid==0.6.1->dwave-ocean-sdk) (0.4.3)\n",
      "Requirement already satisfied: click>5 in c:\\users\\rishabh singhal\\anaconda3\\lib\\site-packages (from dwave-hybrid==0.6.1->dwave-ocean-sdk) (7.1.2)\n",
      "Requirement already satisfied: fasteners in c:\\users\\rishabh singhal\\anaconda3\\lib\\site-packages (from minorminer==0.2.5->dwave-ocean-sdk) (0.16)\n",
      "Requirement already satisfied: python-dateutil>=2.7 in c:\\users\\rishabh singhal\\anaconda3\\lib\\site-packages (from dwave-cloud-client==0.8.4->dwave-ocean-sdk) (2.8.1)\n",
      "Requirement already satisfied: requests[socks]>=2.18 in c:\\users\\rishabh singhal\\anaconda3\\lib\\site-packages (from dwave-cloud-client==0.8.4->dwave-ocean-sdk) (2.24.0)\n",
      "Requirement already satisfied: decorator<5.0.0,>=4.1.0 in c:\\users\\rishabh singhal\\anaconda3\\lib\\site-packages (from dwave-networkx==0.8.8->dwave-ocean-sdk) (4.4.2)\n",
      "Requirement already satisfied: itsdangerous>=0.24 in c:\\users\\rishabh singhal\\anaconda3\\lib\\site-packages (from Flask>=1.1.1->dwave-inspector==0.2.5->dwave-ocean-sdk) (1.1.0)\n",
      "Requirement already satisfied: Jinja2>=2.10.1 in c:\\users\\rishabh singhal\\anaconda3\\lib\\site-packages (from Flask>=1.1.1->dwave-inspector==0.2.5->dwave-ocean-sdk) (2.11.2)\n",
      "Requirement already satisfied: Werkzeug>=0.15 in c:\\users\\rishabh singhal\\anaconda3\\lib\\site-packages (from Flask>=1.1.1->dwave-inspector==0.2.5->dwave-ocean-sdk) (1.0.1)\n",
      "Requirement already satisfied: wrapt<2,>=1.10 in c:\\users\\rishabh singhal\\anaconda3\\lib\\site-packages (from Deprecated>=1.2.10->pyqubo==1.0.10->dwave-ocean-sdk) (1.11.2)\n",
      "Requirement already satisfied: protobuf>=3.14.0 in c:\\users\\rishabh singhal\\anaconda3\\lib\\site-packages (from ortools<9.0.0,>=6.6.4659->penaltymodel-mip==0.2.4; platform_machine == \"x86_64\" or platform_machine == \"amd64\" or platform_machine == \"AMD64\"->dwave-ocean-sdk) (3.14.0)\n",
      "Requirement already satisfied: absl-py>=0.11 in c:\\users\\rishabh singhal\\anaconda3\\lib\\site-packages (from ortools<9.0.0,>=6.6.4659->penaltymodel-mip==0.2.4; platform_machine == \"x86_64\" or platform_machine == \"amd64\" or platform_machine == \"AMD64\"->dwave-ocean-sdk) (0.11.0)\n",
      "Requirement already satisfied: certifi>=2017.4.17 in c:\\users\\rishabh singhal\\anaconda3\\lib\\site-packages (from requests[socks]>=2.18->dwave-cloud-client==0.8.4->dwave-ocean-sdk) (2020.6.20)\n",
      "Requirement already satisfied: idna<3,>=2.5 in c:\\users\\rishabh singhal\\anaconda3\\lib\\site-packages (from requests[socks]>=2.18->dwave-cloud-client==0.8.4->dwave-ocean-sdk) (2.10)\n",
      "Requirement already satisfied: urllib3!=1.25.0,!=1.25.1,<1.26,>=1.21.1 in c:\\users\\rishabh singhal\\anaconda3\\lib\\site-packages (from requests[socks]>=2.18->dwave-cloud-client==0.8.4->dwave-ocean-sdk) (1.25.11)\n",
      "Requirement already satisfied: chardet<4,>=3.0.2 in c:\\users\\rishabh singhal\\anaconda3\\lib\\site-packages (from requests[socks]>=2.18->dwave-cloud-client==0.8.4->dwave-ocean-sdk) (3.0.4)\n",
      "Requirement already satisfied: PySocks!=1.5.7,>=1.5.6; extra == \"socks\" in c:\\users\\rishabh singhal\\anaconda3\\lib\\site-packages (from requests[socks]>=2.18->dwave-cloud-client==0.8.4->dwave-ocean-sdk) (1.7.1)\n",
      "Requirement already satisfied: MarkupSafe>=0.23 in c:\\users\\rishabh singhal\\anaconda3\\lib\\site-packages (from Jinja2>=2.10.1->Flask>=1.1.1->dwave-inspector==0.2.5->dwave-ocean-sdk) (1.1.1)\n"
     ]
    }
   ],
   "source": [
    "!pip install dwave-ocean-sdk"
   ]
  },
  {
   "cell_type": "code",
   "execution_count": 19,
   "metadata": {
    "scrolled": true
   },
   "outputs": [
    {
     "name": "stdout",
     "output_type": "stream",
     "text": [
      "{1: 0, 2: 0} 0.0\n",
      "{1: 1, 2: 1} 0.0\n",
      "{1: 1, 2: 0} 1.0\n",
      "{1: 0, 2: 1} 1.0\n"
     ]
    }
   ],
   "source": [
    "import dimod\n",
    "\n",
    "linear = {1: 1, 2: 1}\n",
    "quadratic = {(1, 2): -2}\n",
    "bqm = dimod.BinaryQuadraticModel(linear, quadratic, 0, dimod.BINARY)\n",
    "response = dimod.ExactSolver().sample(bqm)\n",
    "for sample, energy in response.data(['sample', 'energy']): print(sample, energy)"
   ]
  },
  {
   "cell_type": "code",
   "execution_count": 22,
   "metadata": {},
   "outputs": [
    {
     "name": "stdout",
     "output_type": "stream",
     "text": [
      "{1: 1, 2: 0, 3: 0} 0.0\n",
      "{1: 0, 2: 1, 3: 0} 0.0\n",
      "{1: 0, 2: 0, 3: 1} 0.0\n",
      "{1: 0, 2: 0, 3: 0} 1.0\n",
      "{1: 1, 2: 1, 3: 0} 1.0\n",
      "{1: 0, 2: 1, 3: 1} 1.0\n",
      "{1: 1, 2: 0, 3: 1} 1.0\n",
      "{1: 1, 2: 1, 3: 1} 4.0\n"
     ]
    }
   ],
   "source": [
    "#Slide 40\n",
    "linear = {1: -1, 2: -1, 3: -1}\n",
    "quadratic = {(1,2):2,(1,3):2,(3,2):2}\n",
    "bqm = dimod.BinaryQuadraticModel(linear, quadratic, 1, dimod.BINARY)\n",
    "response = dimod.ExactSolver().sample(bqm)\n",
    "for sample, energy in response.data(['sample', 'energy']): print(sample, energy)"
   ]
  },
  {
   "cell_type": "code",
   "execution_count": 24,
   "metadata": {},
   "outputs": [
    {
     "name": "stdout",
     "output_type": "stream",
     "text": [
      "{1: 1, 2: 1, 3: 0, 4: 0} -3.0\n",
      "{1: 0, 2: 0, 3: 1, 4: 1} -3.0\n",
      "{1: 0, 2: 0, 3: 0, 4: 0} -2.0\n",
      "{1: 0, 2: 1, 3: 0, 4: 0} -2.0\n",
      "{1: 0, 2: 0, 3: 1, 4: 0} -2.0\n",
      "{1: 1, 2: 0, 3: 1, 4: 1} -2.0\n",
      "{1: 1, 2: 1, 3: 1, 4: 1} -2.0\n",
      "{1: 1, 2: 1, 3: 0, 4: 1} -2.0\n",
      "{1: 1, 2: 0, 3: 0, 4: 0} -1.0\n",
      "{1: 1, 2: 1, 3: 1, 4: 0} -1.0\n",
      "{1: 1, 2: 0, 3: 1, 4: 0} -1.0\n",
      "{1: 0, 2: 1, 3: 1, 4: 1} -1.0\n",
      "{1: 0, 2: 1, 3: 0, 4: 1} -1.0\n",
      "{1: 0, 2: 0, 3: 0, 4: 1} -1.0\n",
      "{1: 0, 2: 1, 3: 1, 4: 0} 0.0\n",
      "{1: 1, 2: 0, 3: 0, 4: 1} 0.0\n"
     ]
    }
   ],
   "source": [
    "#slide 29 - Q6\n",
    "linear = {1: 1, 2: 0, 3: 0, 4: 1}#x1,y2,z3,w4\n",
    "quadratic = {(1,2):-2,(2,3):2,(3,4):-2}\n",
    "bqm = dimod.BinaryQuadraticModel(linear, quadratic, -2, dimod.BINARY)\n",
    "response = dimod.ExactSolver().sample(bqm)\n",
    "for sample, energy in response.data(['sample', 'energy']): print(sample, energy)"
   ]
  },
  {
   "cell_type": "code",
   "execution_count": 27,
   "metadata": {},
   "outputs": [
    {
     "name": "stdout",
     "output_type": "stream",
     "text": [
      "{1: 1, 2: 0, 3: 1} 36.0\n",
      "{1: 1, 2: 1, 3: 0} 38.0\n",
      "{1: 0, 2: 1, 3: 1} 40.0\n",
      "{1: 1, 2: 0, 3: 0} 42.0\n",
      "{1: 0, 2: 0, 3: 1} 44.0\n",
      "{1: 0, 2: 1, 3: 0} 46.0\n",
      "{1: 1, 2: 1, 3: 1} 82.0\n",
      "{1: 0, 2: 0, 3: 0} 100.0\n"
     ]
    }
   ],
   "source": [
    "#slide 48 - Q10\n",
    "#qubo = -58(x1)-54(x2)-56(x3)+50(x1x2+x2x3+x1x3)+100\n",
    "linear = {1: -58, 2: -54, 3: -56} \n",
    "quadratic = {(1,2):50,(2,3):50,(3,1):50}\n",
    "bqm = dimod.BinaryQuadraticModel(linear, quadratic, 100, dimod.BINARY)\n",
    "response = dimod.ExactSolver().sample(bqm)\n",
    "for sample, energy in response.data(['sample', 'energy']): print(sample, energy)"
   ]
  },
  {
   "cell_type": "code",
   "execution_count": 31,
   "metadata": {},
   "outputs": [
    {
     "name": "stdout",
     "output_type": "stream",
     "text": [
      "{1: 1, 2: 1, 3: 0, 4: 0} 4.0\n",
      "{1: 0, 2: 1, 3: 1, 4: 0} 4.0\n",
      "{1: 1, 2: 0, 3: 1, 4: 0} 4.0\n",
      "{1: 0, 2: 0, 3: 1, 4: 1} 4.0\n",
      "{1: 0, 2: 1, 3: 0, 4: 1} 4.0\n",
      "{1: 1, 2: 0, 3: 0, 4: 1} 4.0\n",
      "{1: 1, 2: 0, 3: 0, 4: 0} 4.5\n",
      "{1: 0, 2: 1, 3: 0, 4: 0} 4.5\n",
      "{1: 1, 2: 1, 3: 1, 4: 0} 4.5\n",
      "{1: 0, 2: 0, 3: 1, 4: 0} 4.5\n",
      "{1: 1, 2: 0, 3: 1, 4: 1} 4.5\n",
      "{1: 0, 2: 1, 3: 1, 4: 1} 4.5\n",
      "{1: 1, 2: 1, 3: 0, 4: 1} 4.5\n",
      "{1: 0, 2: 0, 3: 0, 4: 1} 4.5\n",
      "{1: 0, 2: 0, 3: 0, 4: 0} 6.0\n",
      "{1: 1, 2: 1, 3: 1, 4: 1} 6.0\n"
     ]
    }
   ],
   "source": [
    "#slide 58 - Q12\n",
    "#qubo = 1.5(x1+x2+x3+x4)+(x1x2+x1x3+x1x4+x2x3+x2x4+x3x4)\n",
    "linear = {1: -1.5, 2: -1.5, 3: -1.5, 4:-1.5} \n",
    "quadratic = {(1,2):1,(1,3):1,(4,1):1,(2,3):1,(2,4):1,(3,4):1}\n",
    "bqm = dimod.BinaryQuadraticModel(linear, quadratic, 6, dimod.BINARY)\n",
    "response = dimod.ExactSolver().sample(bqm)\n",
    "for sample, energy in response.data(['sample', 'energy']): print(sample, energy)"
   ]
  },
  {
   "cell_type": "code",
   "execution_count": 38,
   "metadata": {},
   "outputs": [
    {
     "ename": "ValueError",
     "evalue": "API token not defined",
     "output_type": "error",
     "traceback": [
      "\u001b[1;31m---------------------------------------------------------------------------\u001b[0m",
      "\u001b[1;31mValueError\u001b[0m                                Traceback (most recent call last)",
      "\u001b[1;32m<ipython-input-38-19d7ec6da316>\u001b[0m in \u001b[0;36m<module>\u001b[1;34m\u001b[0m\n\u001b[0;32m      1\u001b[0m \u001b[1;31m#hybrid solver service - Q14\u001b[0m\u001b[1;33m\u001b[0m\u001b[1;33m\u001b[0m\u001b[1;33m\u001b[0m\u001b[0m\n\u001b[0;32m      2\u001b[0m \u001b[1;32mfrom\u001b[0m \u001b[0mdwave\u001b[0m\u001b[1;33m.\u001b[0m\u001b[0msystem\u001b[0m \u001b[1;32mimport\u001b[0m \u001b[0mLeapHybridSampler\u001b[0m\u001b[1;33m\u001b[0m\u001b[1;33m\u001b[0m\u001b[0m\n\u001b[1;32m----> 3\u001b[1;33m \u001b[0msampler\u001b[0m \u001b[1;33m=\u001b[0m \u001b[0mLeapHybridSampler\u001b[0m\u001b[1;33m(\u001b[0m\u001b[1;33m)\u001b[0m\u001b[1;33m\u001b[0m\u001b[1;33m\u001b[0m\u001b[0m\n\u001b[0m\u001b[0;32m      4\u001b[0m \u001b[0mresponse\u001b[0m \u001b[1;33m=\u001b[0m \u001b[0msampler\u001b[0m\u001b[1;33m.\u001b[0m\u001b[0msample\u001b[0m\u001b[1;33m(\u001b[0m\u001b[0mbqm\u001b[0m\u001b[1;33m,\u001b[0m \u001b[0mtime_limit\u001b[0m\u001b[1;33m=\u001b[0m\u001b[1;36m5\u001b[0m\u001b[1;33m)\u001b[0m\u001b[1;33m\u001b[0m\u001b[1;33m\u001b[0m\u001b[0m\n",
      "\u001b[1;32m~\\anaconda3\\lib\\site-packages\\dwave\\system\\samplers\\leap_hybrid_sampler.py\u001b[0m in \u001b[0;36m__init__\u001b[1;34m(self, solver, connection_close, **config)\u001b[0m\n\u001b[0;32m     95\u001b[0m             \u001b[0msolver\u001b[0m\u001b[1;33m.\u001b[0m\u001b[0msetdefault\u001b[0m\u001b[1;33m(\u001b[0m\u001b[1;34m'order_by'\u001b[0m\u001b[1;33m,\u001b[0m \u001b[1;34m'-properties.version'\u001b[0m\u001b[1;33m)\u001b[0m\u001b[1;33m\u001b[0m\u001b[1;33m\u001b[0m\u001b[0m\n\u001b[0;32m     96\u001b[0m \u001b[1;33m\u001b[0m\u001b[0m\n\u001b[1;32m---> 97\u001b[1;33m         self.client = Client.from_config(\n\u001b[0m\u001b[0;32m     98\u001b[0m             solver=solver, connection_close=connection_close, **config)\n\u001b[0;32m     99\u001b[0m \u001b[1;33m\u001b[0m\u001b[0m\n",
      "\u001b[1;32m~\\anaconda3\\lib\\site-packages\\dwave\\cloud\\client.py\u001b[0m in \u001b[0;36mfrom_config\u001b[1;34m(cls, config_file, profile, client, **kwargs)\u001b[0m\n\u001b[0;32m    342\u001b[0m \u001b[1;33m\u001b[0m\u001b[0m\n\u001b[0;32m    343\u001b[0m         \u001b[0mlogger\u001b[0m\u001b[1;33m.\u001b[0m\u001b[0mdebug\u001b[0m\u001b[1;33m(\u001b[0m\u001b[1;34m\"Creating %s.Client() with: %r\"\u001b[0m\u001b[1;33m,\u001b[0m \u001b[0m_client\u001b[0m\u001b[1;33m,\u001b[0m \u001b[0mconfig\u001b[0m\u001b[1;33m)\u001b[0m\u001b[1;33m\u001b[0m\u001b[1;33m\u001b[0m\u001b[0m\n\u001b[1;32m--> 344\u001b[1;33m         \u001b[1;32mreturn\u001b[0m \u001b[0m_clients\u001b[0m\u001b[1;33m[\u001b[0m\u001b[0m_client\u001b[0m\u001b[1;33m]\u001b[0m\u001b[1;33m(\u001b[0m\u001b[1;33m**\u001b[0m\u001b[0mconfig\u001b[0m\u001b[1;33m)\u001b[0m\u001b[1;33m\u001b[0m\u001b[1;33m\u001b[0m\u001b[0m\n\u001b[0m\u001b[0;32m    345\u001b[0m \u001b[1;33m\u001b[0m\u001b[0m\n\u001b[0;32m    346\u001b[0m     \u001b[1;32mdef\u001b[0m \u001b[0m__init__\u001b[0m\u001b[1;33m(\u001b[0m\u001b[0mself\u001b[0m\u001b[1;33m,\u001b[0m \u001b[0mendpoint\u001b[0m\u001b[1;33m=\u001b[0m\u001b[1;32mNone\u001b[0m\u001b[1;33m,\u001b[0m \u001b[0mtoken\u001b[0m\u001b[1;33m=\u001b[0m\u001b[1;32mNone\u001b[0m\u001b[1;33m,\u001b[0m \u001b[0msolver\u001b[0m\u001b[1;33m=\u001b[0m\u001b[1;32mNone\u001b[0m\u001b[1;33m,\u001b[0m \u001b[1;33m**\u001b[0m\u001b[0mkwargs\u001b[0m\u001b[1;33m)\u001b[0m\u001b[1;33m:\u001b[0m\u001b[1;33m\u001b[0m\u001b[1;33m\u001b[0m\u001b[0m\n",
      "\u001b[1;32m~\\anaconda3\\lib\\site-packages\\dwave\\cloud\\client.py\u001b[0m in \u001b[0;36m__init__\u001b[1;34m(self, endpoint, token, solver, **kwargs)\u001b[0m\n\u001b[0;32m    384\u001b[0m         \u001b[0mtoken\u001b[0m \u001b[1;33m=\u001b[0m \u001b[0moptions\u001b[0m\u001b[1;33m[\u001b[0m\u001b[1;34m'token'\u001b[0m\u001b[1;33m]\u001b[0m\u001b[1;33m\u001b[0m\u001b[1;33m\u001b[0m\u001b[0m\n\u001b[0;32m    385\u001b[0m         \u001b[1;32mif\u001b[0m \u001b[1;32mnot\u001b[0m \u001b[0mtoken\u001b[0m\u001b[1;33m:\u001b[0m\u001b[1;33m\u001b[0m\u001b[1;33m\u001b[0m\u001b[0m\n\u001b[1;32m--> 386\u001b[1;33m             \u001b[1;32mraise\u001b[0m \u001b[0mValueError\u001b[0m\u001b[1;33m(\u001b[0m\u001b[1;34m\"API token not defined\"\u001b[0m\u001b[1;33m)\u001b[0m\u001b[1;33m\u001b[0m\u001b[1;33m\u001b[0m\u001b[0m\n\u001b[0m\u001b[0;32m    387\u001b[0m \u001b[1;33m\u001b[0m\u001b[0m\n\u001b[0;32m    388\u001b[0m         \u001b[1;31m# parse optional client certificate\u001b[0m\u001b[1;33m\u001b[0m\u001b[1;33m\u001b[0m\u001b[1;33m\u001b[0m\u001b[0m\n",
      "\u001b[1;31mValueError\u001b[0m: API token not defined"
     ]
    }
   ],
   "source": [
    "#hybrid solver service - Q14\n",
    "from dwave.system import LeapHybridSampler\n",
    "sampler = LeapHybridSampler()\n",
    "response = sampler.sample(bqm, time_limit=5)"
   ]
  },
  {
   "cell_type": "code",
   "execution_count": null,
   "metadata": {},
   "outputs": [],
   "source": [
    "!dwave setup"
   ]
  }
 ],
 "metadata": {
  "kernelspec": {
   "display_name": "Python 3",
   "language": "python",
   "name": "python3"
  },
  "language_info": {
   "codemirror_mode": {
    "name": "ipython",
    "version": 3
   },
   "file_extension": ".py",
   "mimetype": "text/x-python",
   "name": "python",
   "nbconvert_exporter": "python",
   "pygments_lexer": "ipython3",
   "version": "3.8.5"
  }
 },
 "nbformat": 4,
 "nbformat_minor": 4
}
